{
  "nbformat": 4,
  "nbformat_minor": 0,
  "metadata": {
    "colab": {
      "provenance": [],
      "authorship_tag": "ABX9TyOaHnF+hthy6iWkcbRY4hYu",
      "include_colab_link": true
    },
    "kernelspec": {
      "name": "python3",
      "display_name": "Python 3"
    },
    "language_info": {
      "name": "python"
    }
  },
  "cells": [
    {
      "cell_type": "markdown",
      "metadata": {
        "id": "view-in-github",
        "colab_type": "text"
      },
      "source": [
        "<a href=\"https://colab.research.google.com/github/YasSousa-carv/pythpn.vscode/blob/main/tarefa(14_04).ipynb\" target=\"_parent\"><img src=\"https://colab.research.google.com/assets/colab-badge.svg\" alt=\"Open In Colab\"/></a>"
      ]
    },
    {
      "cell_type": "markdown",
      "source": [
        "# QUESTÃO 1\n",
        "\n",
        "---\n",
        "\n",
        "programa de uma loja de eletrônicos\n"
      ],
      "metadata": {
        "id": "LydkQzSFDVUw"
      }
    },
    {
      "cell_type": "code",
      "execution_count": 16,
      "metadata": {
        "colab": {
          "base_uri": "https://localhost:8080/"
        },
        "id": "EgtqGJEyDLz1",
        "outputId": "75e99ee2-2ad7-44c8-d142-1765b84e8c12"
      },
      "outputs": [
        {
          "output_type": "stream",
          "name": "stdout",
          "text": [
            "Olá, seja bem vindo(a)!Sua lista de eletronicos,['computador', 'celular', 'fone de ouvido'],deu um total parcial de 4595 reais.\n",
            "\n",
            "Sua compra por atigir um valor mínimo de 500 reais,recebeu um desconto de 10%\n",
            "O valor total é de 4135.5 reais.\n"
          ]
        }
      ],
      "source": [
        "i = ['computador','celular','fone de ouvido']\n",
        "v = [2719,1666,210]\n",
        "tp = sum(v)\n",
        "print(f'Olá, seja bem vindo(a)!Sua lista de eletronicos,{i},deu um total parcial de {tp} reais.')\n",
        "print('')\n",
        "if tp > 500:\n",
        "  tt = tp * 0.9\n",
        "  print(f'Sua compra por atigir um valor mínimo de 500 reais,recebeu um desconto de 10%')\n",
        "  print(f'O valor total é de {tt} reais.')\n",
        "else:\n",
        "  print('Sua compra não atingiu o valor mínimo de 500 reais,por isso não recebeu nenhum desconto')\n",
        "  print(f'O valor total é de {tp} reais.')"
      ]
    },
    {
      "cell_type": "markdown",
      "source": [
        "# Questão 2\n",
        "\n",
        "---\n",
        "Número de palavras em uma frase\n"
      ],
      "metadata": {
        "id": "YmDRGUijHFfo"
      }
    },
    {
      "cell_type": "code",
      "source": [
        "f = input('Digite uma frase: ')\n",
        "sf = f.split(' ')\n",
        "cf = len(sf)\n",
        "\n",
        "print(f'O número de palavras nessa frase é: {cf}')"
      ],
      "metadata": {
        "colab": {
          "base_uri": "https://localhost:8080/"
        },
        "id": "mt2Dtyk6HI0G",
        "outputId": "21a5d857-1d0f-4448-b3f7-35c62d0ead12"
      },
      "execution_count": 10,
      "outputs": [
        {
          "output_type": "stream",
          "name": "stdout",
          "text": [
            "Digite uma frase: olá me chamo yasmim\n",
            "O número de palavras nessa frase é 4:\n"
          ]
        }
      ]
    },
    {
      "cell_type": "markdown",
      "source": [
        "# QUESTÃO 3\n",
        "\n",
        "---\n",
        "Troca de vogais por asteriscos\n"
      ],
      "metadata": {
        "id": "tACgeDhELKMg"
      }
    },
    {
      "cell_type": "code",
      "source": [
        "f = input('Digite uma frase: ')\n",
        "\n",
        "for l in f:\n",
        "  f1 = l.replace('a','*')\n",
        "  f2 = f1.replace('e','*')\n",
        "  f3 = f2.replace('i','*')\n",
        "  f4 = f3.replace('o','*')\n",
        "  f5 = f4.replace('u','*')\n",
        "  print(f5)"
      ],
      "metadata": {
        "colab": {
          "base_uri": "https://localhost:8080/"
        },
        "id": "YZMmOJbNLfBr",
        "outputId": "f3ea655d-1915-45d4-9ea8-14b43f06598e"
      },
      "execution_count": 14,
      "outputs": [
        {
          "output_type": "stream",
          "name": "stdout",
          "text": [
            "Digite uma frase: me chamo yasmim sousa\n",
            "m\n",
            "*\n",
            " \n",
            "c\n",
            "h\n",
            "*\n",
            "m\n",
            "*\n",
            " \n",
            "y\n",
            "*\n",
            "s\n",
            "m\n",
            "*\n",
            "m\n",
            " \n",
            "s\n",
            "*\n",
            "*\n",
            "s\n",
            "*\n"
          ]
        }
      ]
    },
    {
      "cell_type": "markdown",
      "source": [
        "# Questão 4\n",
        "\n",
        "---\n",
        "lista de números\n"
      ],
      "metadata": {
        "id": "fhgsssFtOaK9"
      }
    },
    {
      "cell_type": "code",
      "source": [
        "n = input('Digite um conjunto de númreros separados por espaço: ')\n",
        "ns = n.split(' ')\n",
        "print(ns)"
      ],
      "metadata": {
        "colab": {
          "base_uri": "https://localhost:8080/"
        },
        "id": "jbf-TelAOCcT",
        "outputId": "c4970196-0065-4ec0-c471-e5a9bf8d4be4"
      },
      "execution_count": 15,
      "outputs": [
        {
          "output_type": "stream",
          "name": "stdout",
          "text": [
            "Digite um conjunto de númreros separados por espaço: 34 2 56 78\n",
            "['34', '2', '56', '78']\n"
          ]
        }
      ]
    },
    {
      "cell_type": "markdown",
      "source": [
        "# Questão 5\n",
        "\n",
        "---\n",
        "\n",
        "\n",
        "Escreva um programa em Python que conte o número de\n",
        "dígitos e o número de letras em uma frase fornecida pelo usuário. O programa\n",
        "deve iterar sobre cada caractere na frase e verificar se é um dígito ou uma\n",
        "letra.\n"
      ],
      "metadata": {
        "id": "-FHEvOOKNl1k"
      }
    },
    {
      "cell_type": "markdown",
      "source": [
        "# Questão 6\n",
        "\n",
        "---\n",
        "Escreva um programa em Python que conte o número de vogais\n",
        "e o número de consoantes em uma frase fornecida pelo usuário. O programa deve\n",
        "iterar sobre cada caractere na frase e verificar se é uma vogal (incluindo\n",
        "maiúsculas e minúsculas) ou uma consoante. Ao final, deve imprimir o número\n",
        "total de vogais e o número total de consoantes encontradas na frase.\n"
      ],
      "metadata": {
        "id": "IRxqBY9FPusS"
      }
    }
  ]
}